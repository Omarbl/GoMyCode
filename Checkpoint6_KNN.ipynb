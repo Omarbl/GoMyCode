{
 "cells": [
  {
   "cell_type": "code",
   "execution_count": 117,
   "metadata": {
    "scrolled": true
   },
   "outputs": [],
   "source": [
    "import csv\n",
    "import random\n",
    "import numpy as np\n",
    "import matplotlib.pyplot as plt\n",
    "import operator"
   ]
  },
  {
   "cell_type": "code",
   "execution_count": 161,
   "metadata": {},
   "outputs": [],
   "source": [
    "def loadDataset(filename, split, trainingSet=[] , testSet=[]):    \n",
    "    with open(filename, 'r') as csvfile:\n",
    "        lines = csv.reader(csvfile)\n",
    "        dataset = list(lines)\n",
    "        for x in range(len(dataset)):\n",
    "            for y in range(4):\n",
    "                dataset[x][y] = float(dataset[x][y])\n",
    "            if (random.random() < split) & (len(trainingSet)<round(split*len(testSet))) :\n",
    "                trainingSet.append(dataset[x])\n",
    "            else:\n",
    "                testSet.append(dataset[x])"
   ]
  },
  {
   "cell_type": "code",
   "execution_count": 189,
   "metadata": {
    "scrolled": false
   },
   "outputs": [
    {
     "name": "stdout",
     "output_type": "stream",
     "text": [
      "Train: 62\n",
      "Test: 88\n"
     ]
    }
   ],
   "source": [
    "TrainingSet=[]\n",
    "TestSet=[]\n",
    "path = 'C:\\\\Users\\\\omarb\\\\Documents\\\\Introduction to AI\\\\Jupyter\\\\Datasets\\\\iris.data.txt'\n",
    "loadDataset(path, 0.7, TrainingSet, TestSet)\n",
    "print ('Train: ' + repr(len(TrainingSet)))\n",
    "print ('Test: ' + repr(len(TestSet)) )"
   ]
  },
  {
   "cell_type": "code",
   "execution_count": 120,
   "metadata": {},
   "outputs": [],
   "source": [
    "import math\n",
    "\n",
    "def euclideanDistance(instance1, instance2, length):\n",
    "    x1 = instance1[:length]\n",
    "    x2 = instance2[:length]\n",
    "    res = [(i[0]-i[1])**2 for i in zip(x1,x2)]\n",
    "    return np.sqrt(sum(res))"
   ]
  },
  {
   "cell_type": "code",
   "execution_count": 121,
   "metadata": {},
   "outputs": [
    {
     "name": "stdout",
     "output_type": "stream",
     "text": [
      "Euclidean distance: 3.4641016151377544\n"
     ]
    }
   ],
   "source": [
    "data1 = [2, 2, 2,'a']\n",
    "data2 = [4, 4, 4,'b']\n",
    "distance = euclideanDistance(data1, data2, 3)\n",
    "print('Euclidean distance: ' + repr(distance))"
   ]
  },
  {
   "cell_type": "code",
   "execution_count": 122,
   "metadata": {},
   "outputs": [],
   "source": [
    "def getNeighbors(trainingSet, testInstance, k):\n",
    "    distances = []\n",
    "    length = len(testInstance)-1\n",
    "    for x in range(len(trainingSet)):\n",
    "        dist = euclideanDistance(testInstance, trainingSet[x], length)\n",
    "        distances.append((trainingSet[x], dist))\n",
    "    distances.sort(key=operator.itemgetter(1))\n",
    "    neighbors = []\n",
    "    for x in range(k):\n",
    "        neighbors.append(distances[x][0])\n",
    "    return neighbors"
   ]
  },
  {
   "cell_type": "code",
   "execution_count": 123,
   "metadata": {
    "scrolled": true
   },
   "outputs": [
    {
     "name": "stdout",
     "output_type": "stream",
     "text": [
      "[[4, 4, 4, 'b']]\n"
     ]
    }
   ],
   "source": [
    "trainSet = [[2, 2, 2, 'a'], [4, 4, 4, 'b']]\n",
    "testInstance = [5, 5, 5]\n",
    "k = 1\n",
    "neighbors = getNeighbors(trainSet, testInstance, 1)\n",
    "print(neighbors)"
   ]
  },
  {
   "cell_type": "code",
   "execution_count": 124,
   "metadata": {},
   "outputs": [
    {
     "data": {
      "text/plain": [
       "{'neighbors': 2}"
      ]
     },
     "execution_count": 124,
     "metadata": {},
     "output_type": "execute_result"
    }
   ],
   "source": [
    "classVotes = {}\n",
    "classVotes['neighbors'] = 1\n",
    "classVotes['neighbors'] +=1\n",
    "classVotes"
   ]
  },
  {
   "cell_type": "code",
   "execution_count": 125,
   "metadata": {},
   "outputs": [],
   "source": [
    "def getResponse(neighbors):\n",
    "    classVotes = {}\n",
    "    for x in range(len(neighbors)):\n",
    "        response = neighbors[x][-1] #complete with appropriate number\n",
    "        if response in classVotes:\n",
    "            classVotes[response] = classVotes[response] + 1\n",
    "        else:\n",
    "            classVotes[response] = 1\n",
    "    sortedVotes = sorted(classVotes.items(), key=operator.itemgetter(1), reverse=True)\n",
    "    return sortedVotes[0][0]"
   ]
  },
  {
   "cell_type": "code",
   "execution_count": 126,
   "metadata": {},
   "outputs": [
    {
     "name": "stdout",
     "output_type": "stream",
     "text": [
      "a\n"
     ]
    }
   ],
   "source": [
    "neighbors = [[1,1,1,'a'], [2,2,2,'a'], [3,3,3,'b']]\n",
    "response = getResponse(neighbors)\n",
    "print(response)"
   ]
  },
  {
   "cell_type": "code",
   "execution_count": 127,
   "metadata": {},
   "outputs": [],
   "source": [
    "def getAccuracy(testSet, predictions):\n",
    "    correct = 0\n",
    "    for i in range(len(testSet)):\n",
    "        if testSet[i][-1] == predictions[i]:\n",
    "            correct+=1    \n",
    "    return (correct/float(len(testSet))) * 100.0"
   ]
  },
  {
   "cell_type": "code",
   "execution_count": 128,
   "metadata": {},
   "outputs": [
    {
     "name": "stdout",
     "output_type": "stream",
     "text": [
      "66.66666666666666\n"
     ]
    }
   ],
   "source": [
    "testSet = [[1,1,1,'a'], [2,2,2,'a'], [3,3,3,'b']]\n",
    "predictions = ['a', 'a', 'a']\n",
    "accuracy = getAccuracy(testSet, predictions)\n",
    "print(accuracy)"
   ]
  },
  {
   "cell_type": "markdown",
   "metadata": {},
   "source": [
    "# KNN  "
   ]
  },
  {
   "cell_type": "code",
   "execution_count": 129,
   "metadata": {},
   "outputs": [],
   "source": [
    "def predict(testInstance,TrainingSet,K):\n",
    "    neighbors = [getNeighbors(TrainingSet, i, K) for i in testInstance]\n",
    "    return list(map(getResponse,neighbors))"
   ]
  },
  {
   "cell_type": "code",
   "execution_count": 238,
   "metadata": {
    "scrolled": true
   },
   "outputs": [
    {
     "name": "stdout",
     "output_type": "stream",
     "text": [
      "Accurancy is 93.18181818181817\n",
      "K_opt is 1\n",
      "Accurancy is 93.18181818181817\n",
      "K_opt is 1\n",
      "Accurancy is 96.5909090909091\n",
      "K_opt is 1\n",
      "Accurancy is 95.45454545454545\n",
      "K_opt is 1\n",
      "Accurancy is 95.45454545454545\n",
      "K_opt is 1\n",
      "Accurancy is 95.45454545454545\n",
      "K_opt is 1\n",
      "Accurancy is 95.45454545454545\n",
      "K_opt is 1\n",
      "Accurancy is 95.45454545454545\n",
      "K_opt is 1\n",
      "Accurancy is 94.31818181818183\n",
      "K_opt is 1\n",
      "Accurancy is 94.31818181818183\n",
      "K_opt is 1\n",
      "Accurancy is 94.31818181818183\n",
      "K_opt is 1\n",
      "Accurancy is 94.31818181818183\n",
      "K_opt is 1\n",
      "Accurancy is 94.31818181818183\n",
      "K_opt is 1\n",
      "Accurancy is 94.31818181818183\n",
      "K_opt is 1\n",
      "optimal K is 1 with 93.18181818181817 accurancy\n"
     ]
    }
   ],
   "source": [
    "n = 15\n",
    "acc_max = 0\n",
    "K_opt = 15\n",
    "scores_euc=[]\n",
    "for K in range(1,n):\n",
    "    predictions = predict(TestSet,TrainingSet,K)\n",
    "    accurancy = getAccuracy(TestSet, predictions)\n",
    "    if (accurancy > acc_max) & (K<K_opt):\n",
    "        acc_max = accurancy\n",
    "        K_opt = K\n",
    "    print('Accurancy is '+ repr(accurancy))\n",
    "    print('K_opt is '+ repr(K_opt))\n",
    "    scores_euc.append(accurancy)\n",
    "print('optimal K is '+ repr(K_opt)+' with '+repr(acc_max)+' accurancy')"
   ]
  },
  {
   "cell_type": "code",
   "execution_count": 203,
   "metadata": {},
   "outputs": [],
   "source": [
    "# define new metric: Manhattan distance\n",
    "def ManhattanDistance(instance1, instance2, length):\n",
    "    x1 = instance1[:length]\n",
    "    x2 = instance2[:length]\n",
    "    res = [abs(i[0]-i[1]) for i in zip(x1,x2)]\n",
    "    return np.sqrt(sum(res))"
   ]
  },
  {
   "cell_type": "code",
   "execution_count": 204,
   "metadata": {},
   "outputs": [],
   "source": [
    "def getNeighbors(trainingSet, testInstance, k):\n",
    "    distances = []\n",
    "    length = len(testInstance)-1\n",
    "    for x in range(len(trainingSet)):\n",
    "        dist = ManhattanDistance(testInstance, trainingSet[x], length)\n",
    "        distances.append((trainingSet[x], dist))\n",
    "    distances.sort(key=operator.itemgetter(1))\n",
    "    neighbors = []\n",
    "    for x in range(k):\n",
    "        neighbors.append(distances[x][0])\n",
    "    return neighbors"
   ]
  },
  {
   "cell_type": "code",
   "execution_count": 240,
   "metadata": {},
   "outputs": [
    {
     "name": "stdout",
     "output_type": "stream",
     "text": [
      "Accurancy is 93.18181818181817\n",
      "K_opt is 1\n",
      "Accurancy is 93.18181818181817\n",
      "K_opt is 1\n",
      "Accurancy is 96.5909090909091\n",
      "K_opt is 1\n",
      "Accurancy is 95.45454545454545\n",
      "K_opt is 1\n",
      "Accurancy is 95.45454545454545\n",
      "K_opt is 1\n",
      "Accurancy is 95.45454545454545\n",
      "K_opt is 1\n",
      "Accurancy is 95.45454545454545\n",
      "K_opt is 1\n",
      "Accurancy is 95.45454545454545\n",
      "K_opt is 1\n",
      "Accurancy is 94.31818181818183\n",
      "K_opt is 1\n",
      "Accurancy is 94.31818181818183\n",
      "K_opt is 1\n",
      "Accurancy is 94.31818181818183\n",
      "K_opt is 1\n",
      "Accurancy is 94.31818181818183\n",
      "K_opt is 1\n",
      "Accurancy is 94.31818181818183\n",
      "K_opt is 1\n",
      "Accurancy is 94.31818181818183\n",
      "K_opt is 1\n",
      "optimal K is 1 with 93.18181818181817 accurancy\n"
     ]
    }
   ],
   "source": [
    "acc_max = 0\n",
    "K_opt = 15\n",
    "scores_man=[]\n",
    "for K in range(1,n):\n",
    "    predictions = predict(TestSet,TrainingSet,K)\n",
    "    accurancy = getAccuracy(TestSet, predictions)\n",
    "    if (accurancy > acc_max) & (K<K_opt):\n",
    "        acc_max = accurancy\n",
    "        K_opt = K\n",
    "    print('Accurancy is '+ repr(accurancy))\n",
    "    print('K_opt is '+ repr(K_opt))\n",
    "    scores_man.append(accurancy)\n",
    "print('optimal K is '+ repr(K_opt)+' with '+repr(acc_max)+' accurancy')"
   ]
  },
  {
   "cell_type": "code",
   "execution_count": 242,
   "metadata": {},
   "outputs": [
    {
     "name": "stderr",
     "output_type": "stream",
     "text": [
      "<ipython-input-242-8bf7b7c91f67>:1: MatplotlibDeprecationWarning: Case-insensitive properties were deprecated in 3.3 and support will be removed two minor releases later\n",
      "  plt.plot([K for K in range(1,n)],scores_euc,linestyle=':',Linewidth=5)\n",
      "<ipython-input-242-8bf7b7c91f67>:2: MatplotlibDeprecationWarning: Case-insensitive properties were deprecated in 3.3 and support will be removed two minor releases later\n",
      "  plt.plot([K for K in range(1,n)],scores_man,linestyle='-.',Linewidth=3)\n"
     ]
    },
    {
     "data": {
      "text/plain": [
       "Text(0.5, 1.0, 'KNN accurancy')"
      ]
     },
     "execution_count": 242,
     "metadata": {},
     "output_type": "execute_result"
    },
    {
     "data": {
      "image/png": "[encoded data removed]",
      "text/plain": [
       "<Figure size 432x288 with 1 Axes>"
      ]
     },
     "metadata": {
      "needs_background": "light"
     },
     "output_type": "display_data"
    }
   ],
   "source": [
    "plt.plot([K for K in range(1,n)],scores_euc,linestyle=':',Linewidth=5)\n",
    "plt.plot([K for K in range(1,n)],scores_man,linestyle='-.',Linewidth=3)\n",
    "plt.ylabel('Accurancy')\n",
    "plt.xlabel('K')\n",
    "plt.legend(['euclidean','Manhattan'])\n",
    "plt.title('KNN accurancy')"
   ]
  }
 ],
 "metadata": {
  "kernelspec": {
   "display_name": "Python 3",
   "language": "python",
   "name": "python3"
  },
  "language_info": {
   "codemirror_mode": {
    "name": "ipython",
    "version": 3
   },
   "file_extension": ".py",
   "mimetype": "text/x-python",
   "name": "python",
   "nbconvert_exporter": "python",
   "pygments_lexer": "ipython3",
   "version": "3.8.5"
  }
 },
 "nbformat": 4,
 "nbformat_minor": 4
}
