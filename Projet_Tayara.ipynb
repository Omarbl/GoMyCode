{
 "cells": [
  {
   "cell_type": "markdown",
   "metadata": {},
   "source": [
    "# Project : Tayara-Cars Prediction"
   ]
  },
  {
   "cell_type": "markdown",
   "metadata": {},
   "source": [
    "## Import libraries"
   ]
  },
  {
   "cell_type": "code",
   "execution_count": 158,
   "metadata": {},
   "outputs": [],
   "source": [
    "import math\n",
    "import scipy as sp\n",
    "import numpy as np\n",
    "import pandas as pd\n",
    "import matplotlib.pyplot as plt\n",
    "import seaborn as sb\n",
    "from matplotlib import cm\n",
    "import sklearn\n",
    "from sklearn.model_selection import train_test_split\n",
    "from sklearn.linear_model import LinearRegression\n",
    "from sklearn.metrics import mean_squared_error\n",
    "from sklearn import metrics\n",
    "from sklearn.preprocessing import PolynomialFeatures\n",
    "from sklearn.preprocessing import StandardScaler\n",
    "from sklearn import tree   \n",
    "from sklearn.tree import DecisionTreeRegressor\n",
    "from sklearn.metrics import accuracy_score\n",
    "from sklearn.metrics import mean_absolute_error\n",
    "from sklearn.ensemble import RandomForestRegressor\n",
    "from sklearn.model_selection import cross_val_score\n",
    "\n",
    "import datetime\n",
    "date = datetime.datetime.today()"
   ]
  },
  {
   "cell_type": "markdown",
   "metadata": {},
   "source": [
    "## support functions"
   ]
  },
  {
   "cell_type": "code",
   "execution_count": 2,
   "metadata": {},
   "outputs": [],
   "source": [
    "def plot_correlation_map(df):\n",
    "    corr = df.corr()\n",
    "    s , ax = plt.subplots(figsize=(12,10))\n",
    "    cmap = sb.diverging_palette(220,10,as_cmap = True)\n",
    "    s = sb.heatmap(corr,cmap = cmap,square=True,cbar_kws={ 'shrink' : .9 },ax=ax,\n",
    "                   annot = True,annot_kws = { 'fontsize' : 12 })"
   ]
  },
  {
   "cell_type": "code",
   "execution_count": 3,
   "metadata": {},
   "outputs": [],
   "source": [
    "def gouv_name(location):\n",
    "    gouv = location.split(',')\n",
    "    return gouv[0]"
   ]
  },
  {
   "cell_type": "code",
   "execution_count": 4,
   "metadata": {},
   "outputs": [],
   "source": [
    "def price_rec(pr):\n",
    "    ch = str(int(pr))\n",
    "    if len(ch)<3:\n",
    "        pr = pr*1000\n",
    "    if len(ch)==3:\n",
    "        pr = math.nan\n",
    "    if (len(np.unique(list(ch)))==1):\n",
    "        pr = math.nan\n",
    "    return pr"
   ]
  },
  {
   "cell_type": "code",
   "execution_count": null,
   "metadata": {},
   "outputs": [],
   "source": [
    "\n"
   ]
  },
  {
   "cell_type": "code",
   "execution_count": 5,
   "metadata": {},
   "outputs": [],
   "source": [
    "def annee_rec(an):\n",
    "    an = int(abs(an))\n",
    "    if ((an < 22) & (an >= 0)):\n",
    "        return int(an+2000)   \n",
    "    elif ((an >= 80) & (an < 100)):\n",
    "        return int(an+1900)\n",
    "    elif ((an>=1970) & (an<=date.year)):\n",
    "        return int(an)\n",
    "    else:\n",
    "        return math.nan\n",
    "        "
   ]
  },
  {
   "cell_type": "code",
   "execution_count": 6,
   "metadata": {},
   "outputs": [],
   "source": [
    "def km_rec(km):\n",
    "    ch =''\n",
    "    km = round(abs(km))\n",
    "    ch = str(km)\n",
    "    if (len(np.unique(list(str(km))))==1):\n",
    "        return math.nan\n",
    "    elif len(ch)>=7:\n",
    "        res = int(ch[:6]) \n",
    "        return res\n",
    "    elif ((len(ch)>=4) & (len(ch)<=6)):\n",
    "        res = abs(km)\n",
    "        return res\n",
    "    elif ((len(ch) >= 1) & (len(ch)<=3)):\n",
    "        res= abs(km)*1000    \n",
    "        return res"
   ]
  },
  {
   "cell_type": "code",
   "execution_count": 7,
   "metadata": {},
   "outputs": [],
   "source": [
    "def puissance_rec(ch):\n",
    "    ch = int(ch)\n",
    "    cv = []\n",
    "    if (ch < 600) & (ch > 25): # convert ch (puissance) in cv (chevaux fiscaux)\n",
    "        CO2=110 # mean CO2 value in [gr/km] \n",
    "        cv = round((CO2/45) + (0.736*ch/40)*1.6)\n",
    "    if (ch>0) & (ch<26):\n",
    "        cv = ch\n",
    "    if (ch>=600) or (ch<=1):\n",
    "        cv = math.nan\n",
    "    return cv"
   ]
  },
  {
   "cell_type": "markdown",
   "metadata": {},
   "source": [
    "## Import and explore data"
   ]
  },
  {
   "cell_type": "code",
   "execution_count": 8,
   "metadata": {
    "scrolled": true
   },
   "outputs": [
    {
     "name": "stdout",
     "output_type": "stream",
     "text": [
      "<class 'pandas.core.frame.DataFrame'>\n",
      "RangeIndex: 10730 entries, 0 to 10729\n",
      "Data columns (total 12 columns):\n",
      " #   Column      Non-Null Count  Dtype  \n",
      "---  ------      --------------  -----  \n",
      " 0   Unnamed: 0  10730 non-null  int64  \n",
      " 1   location    10730 non-null  object \n",
      " 2   km          10723 non-null  float64\n",
      " 3   annee       10728 non-null  object \n",
      " 4   marque      10728 non-null  object \n",
      " 5   model       10727 non-null  object \n",
      " 6   date        10730 non-null  object \n",
      " 7   price       10725 non-null  float64\n",
      " 8   carburant   10727 non-null  object \n",
      " 9   puissance   10727 non-null  object \n",
      " 10  boite       10727 non-null  object \n",
      " 11  cylindre    10727 non-null  object \n",
      "dtypes: float64(2), int64(1), object(9)\n",
      "memory usage: 1006.1+ KB\n"
     ]
    }
   ],
   "source": [
    "path = 'C:\\\\Users\\\\omarb\\\\Documents\\\\Introduction to AI\\\\Jupyter\\\\Datasets\\\\'\n",
    "df = pd.read_csv(path+\"tayara_cars.csv\",sep=',',skipinitialspace=True)\n",
    "df.head(10)\n",
    "df.info()"
   ]
  },
  {
   "cell_type": "code",
   "execution_count": 9,
   "metadata": {
    "scrolled": true
   },
   "outputs": [
    {
     "data": {
      "text/html": [
       "<div>\n",
       "<style scoped>\n",
       "    .dataframe tbody tr th:only-of-type {\n",
       "        vertical-align: middle;\n",
       "    }\n",
       "\n",
       "    .dataframe tbody tr th {\n",
       "        vertical-align: top;\n",
       "    }\n",
       "\n",
       "    .dataframe thead th {\n",
       "        text-align: right;\n",
       "    }\n",
       "</style>\n",
       "<table border=\"1\" class=\"dataframe\">\n",
       "  <thead>\n",
       "    <tr style=\"text-align: right;\">\n",
       "      <th></th>\n",
       "      <th>Unnamed: 0</th>\n",
       "      <th>location</th>\n",
       "      <th>km</th>\n",
       "      <th>annee</th>\n",
       "      <th>marque</th>\n",
       "      <th>model</th>\n",
       "      <th>date</th>\n",
       "      <th>price</th>\n",
       "      <th>carburant</th>\n",
       "      <th>puissance</th>\n",
       "      <th>boite</th>\n",
       "      <th>cylindre</th>\n",
       "    </tr>\n",
       "  </thead>\n",
       "  <tbody>\n",
       "    <tr>\n",
       "      <th>0</th>\n",
       "      <td>0</td>\n",
       "      <td>Ben arous, Ezzahra</td>\n",
       "      <td>1.0</td>\n",
       "      <td>2021</td>\n",
       "      <td>Volkswagen</td>\n",
       "      <td>Polo</td>\n",
       "      <td>14 mars 2021</td>\n",
       "      <td>12500.0</td>\n",
       "      <td>Diesel</td>\n",
       "      <td>4</td>\n",
       "      <td>Jaune</td>\n",
       "      <td>Compacte</td>\n",
       "    </tr>\n",
       "    <tr>\n",
       "      <th>1</th>\n",
       "      <td>1</td>\n",
       "      <td>Tunis, Tunis</td>\n",
       "      <td>180000.0</td>\n",
       "      <td>2008</td>\n",
       "      <td>Opel</td>\n",
       "      <td>Astra</td>\n",
       "      <td>14 mars 2021</td>\n",
       "      <td>21500.0</td>\n",
       "      <td>Diesel</td>\n",
       "      <td>1</td>\n",
       "      <td>Noir</td>\n",
       "      <td>Berline</td>\n",
       "    </tr>\n",
       "    <tr>\n",
       "      <th>2</th>\n",
       "      <td>2</td>\n",
       "      <td>Ben arous, Ezzahra</td>\n",
       "      <td>1.0</td>\n",
       "      <td>2021</td>\n",
       "      <td>Volkswagen</td>\n",
       "      <td>Polo</td>\n",
       "      <td>14 mars 2021</td>\n",
       "      <td>12500.0</td>\n",
       "      <td>Diesel</td>\n",
       "      <td>4</td>\n",
       "      <td>Jaune</td>\n",
       "      <td>Compacte</td>\n",
       "    </tr>\n",
       "    <tr>\n",
       "      <th>3</th>\n",
       "      <td>3</td>\n",
       "      <td>Tunis, Tunis</td>\n",
       "      <td>180000.0</td>\n",
       "      <td>2008</td>\n",
       "      <td>Opel</td>\n",
       "      <td>Astra</td>\n",
       "      <td>14 mars 2021</td>\n",
       "      <td>21500.0</td>\n",
       "      <td>Diesel</td>\n",
       "      <td>1</td>\n",
       "      <td>Noir</td>\n",
       "      <td>Berline</td>\n",
       "    </tr>\n",
       "    <tr>\n",
       "      <th>4</th>\n",
       "      <td>4</td>\n",
       "      <td>Monastir, Autres villes</td>\n",
       "      <td>200000.0</td>\n",
       "      <td>1999</td>\n",
       "      <td>Renault</td>\n",
       "      <td>12</td>\n",
       "      <td>14 mars 2021</td>\n",
       "      <td>111111.0</td>\n",
       "      <td>Essence</td>\n",
       "      <td>4</td>\n",
       "      <td>Blanc</td>\n",
       "      <td>Autres</td>\n",
       "    </tr>\n",
       "    <tr>\n",
       "      <th>...</th>\n",
       "      <td>...</td>\n",
       "      <td>...</td>\n",
       "      <td>...</td>\n",
       "      <td>...</td>\n",
       "      <td>...</td>\n",
       "      <td>...</td>\n",
       "      <td>...</td>\n",
       "      <td>...</td>\n",
       "      <td>...</td>\n",
       "      <td>...</td>\n",
       "      <td>...</td>\n",
       "      <td>...</td>\n",
       "    </tr>\n",
       "    <tr>\n",
       "      <th>10725</th>\n",
       "      <td>10725</td>\n",
       "      <td>Ben arous, Radès</td>\n",
       "      <td>86000.0</td>\n",
       "      <td>2013</td>\n",
       "      <td>Peugeot</td>\n",
       "      <td>208</td>\n",
       "      <td>6 février 2021</td>\n",
       "      <td>28800.0</td>\n",
       "      <td>Essence</td>\n",
       "      <td>5</td>\n",
       "      <td>Bleu</td>\n",
       "      <td>Compacte</td>\n",
       "    </tr>\n",
       "    <tr>\n",
       "      <th>10726</th>\n",
       "      <td>10726</td>\n",
       "      <td>Gafsa, Redeyef</td>\n",
       "      <td>232000.0</td>\n",
       "      <td>2009</td>\n",
       "      <td>Renault</td>\n",
       "      <td>Megane</td>\n",
       "      <td>6 février 2021</td>\n",
       "      <td>23500.0</td>\n",
       "      <td>Essence</td>\n",
       "      <td>6</td>\n",
       "      <td>Noir</td>\n",
       "      <td>Berline</td>\n",
       "    </tr>\n",
       "    <tr>\n",
       "      <th>10727</th>\n",
       "      <td>10727</td>\n",
       "      <td>Sfax, Sfax Médina</td>\n",
       "      <td>101000.0</td>\n",
       "      <td>2015</td>\n",
       "      <td>Kia</td>\n",
       "      <td>Rio</td>\n",
       "      <td>6 février 2021</td>\n",
       "      <td>37500.0</td>\n",
       "      <td>Essence</td>\n",
       "      <td>5</td>\n",
       "      <td>Noir</td>\n",
       "      <td>Berline</td>\n",
       "    </tr>\n",
       "    <tr>\n",
       "      <th>10728</th>\n",
       "      <td>10728</td>\n",
       "      <td>Tataouine, Tataouine</td>\n",
       "      <td>273000.0</td>\n",
       "      <td>2008</td>\n",
       "      <td>Volkswagen</td>\n",
       "      <td>Passat</td>\n",
       "      <td>6 février 2021</td>\n",
       "      <td>29000.0</td>\n",
       "      <td>Essence</td>\n",
       "      <td>7</td>\n",
       "      <td>Noir</td>\n",
       "      <td>Autres</td>\n",
       "    </tr>\n",
       "    <tr>\n",
       "      <th>10729</th>\n",
       "      <td>10729</td>\n",
       "      <td>Ariana, Ariana Ville</td>\n",
       "      <td>148000.0</td>\n",
       "      <td>2016</td>\n",
       "      <td>Volkswagen</td>\n",
       "      <td>Passat</td>\n",
       "      <td>6 février 2021</td>\n",
       "      <td>65.0</td>\n",
       "      <td>Essence</td>\n",
       "      <td>7</td>\n",
       "      <td>Noir</td>\n",
       "      <td>Berline</td>\n",
       "    </tr>\n",
       "  </tbody>\n",
       "</table>\n",
       "<p>10730 rows × 12 columns</p>\n",
       "</div>"
      ],
      "text/plain": [
       "       Unnamed: 0                 location        km annee      marque  \\\n",
       "0               0       Ben arous, Ezzahra       1.0  2021  Volkswagen   \n",
       "1               1             Tunis, Tunis  180000.0  2008        Opel   \n",
       "2               2       Ben arous, Ezzahra       1.0  2021  Volkswagen   \n",
       "3               3             Tunis, Tunis  180000.0  2008        Opel   \n",
       "4               4  Monastir, Autres villes  200000.0  1999     Renault   \n",
       "...           ...                      ...       ...   ...         ...   \n",
       "10725       10725         Ben arous, Radès   86000.0  2013     Peugeot   \n",
       "10726       10726           Gafsa, Redeyef  232000.0  2009     Renault   \n",
       "10727       10727        Sfax, Sfax Médina  101000.0  2015         Kia   \n",
       "10728       10728     Tataouine, Tataouine  273000.0  2008  Volkswagen   \n",
       "10729       10729     Ariana, Ariana Ville  148000.0  2016  Volkswagen   \n",
       "\n",
       "        model            date     price carburant puissance  boite  cylindre  \n",
       "0        Polo    14 mars 2021   12500.0    Diesel         4  Jaune  Compacte  \n",
       "1       Astra    14 mars 2021   21500.0    Diesel         1   Noir   Berline  \n",
       "2        Polo    14 mars 2021   12500.0    Diesel         4  Jaune  Compacte  \n",
       "3       Astra    14 mars 2021   21500.0    Diesel         1   Noir   Berline  \n",
       "4          12    14 mars 2021  111111.0   Essence         4  Blanc    Autres  \n",
       "...       ...             ...       ...       ...       ...    ...       ...  \n",
       "10725     208  6 février 2021   28800.0   Essence         5   Bleu  Compacte  \n",
       "10726  Megane  6 février 2021   23500.0   Essence         6   Noir   Berline  \n",
       "10727     Rio  6 février 2021   37500.0   Essence         5   Noir   Berline  \n",
       "10728  Passat  6 février 2021   29000.0   Essence         7   Noir    Autres  \n",
       "10729  Passat  6 février 2021      65.0   Essence         7   Noir   Berline  \n",
       "\n",
       "[10730 rows x 12 columns]"
      ]
     },
     "execution_count": 9,
     "metadata": {},
     "output_type": "execute_result"
    }
   ],
   "source": [
    "df"
   ]
  },
  {
   "cell_type": "code",
   "execution_count": 10,
   "metadata": {},
   "outputs": [
    {
     "data": {
      "text/plain": [
       "Unnamed: 0    0\n",
       "location      0\n",
       "km            7\n",
       "annee         2\n",
       "marque        2\n",
       "model         3\n",
       "date          0\n",
       "price         5\n",
       "carburant     3\n",
       "puissance     3\n",
       "boite         3\n",
       "cylindre      3\n",
       "dtype: int64"
      ]
     },
     "execution_count": 10,
     "metadata": {},
     "output_type": "execute_result"
    }
   ],
   "source": [
    "df.isnull().sum()"
   ]
  },
  {
   "cell_type": "code",
   "execution_count": 11,
   "metadata": {
    "scrolled": true
   },
   "outputs": [],
   "source": [
    "df = df.dropna(axis=0,how='any')"
   ]
  },
  {
   "cell_type": "code",
   "execution_count": 12,
   "metadata": {
    "scrolled": true
   },
   "outputs": [
    {
     "data": {
      "text/plain": [
       "array([ 1.00e+00,  0.00e+00,  2.00e+00,  8.00e+00,  3.00e+00,  5.00e+00,\n",
       "       -1.00e+00,  7.00e+00,  4.00e+00, -1.88e+05, -3.74e+05, -1.30e+05,\n",
       "        9.00e+00, -1.50e+02, -1.20e+02])"
      ]
     },
     "execution_count": 12,
     "metadata": {},
     "output_type": "execute_result"
    }
   ],
   "source": [
    "df.km.unique()[df.km.unique()<10]"
   ]
  },
  {
   "cell_type": "code",
   "execution_count": 13,
   "metadata": {
    "scrolled": false
   },
   "outputs": [
    {
     "data": {
      "text/plain": [
       "array([ 32.,  62.,  23., 500.,  34.,  26.,  39.,  15.,  25.,   6.,  52.,\n",
       "        47.,  36.,  24.,  11.,  31.,  20.,  30.,  10., 123.,  37., 263.,\n",
       "        49.,  35.,  64.,  21.,  13.,  29.,  27.,  22.,  19.,  45., 350.,\n",
       "        50.,  33.,  17.,  53.,  69.,  88.,   9.,  65.,  60.,  80., 200.,\n",
       "        55.,  12.,  16.,  40.,  87.,  46., 110., 120.,  38., 112., 400.,\n",
       "       105., 777.,  71.,  18.,  59., 250.,  14., 220.,  61.,  66.,   7.,\n",
       "       111., 109., 650.,  68.,  56.,   5.,  70.,  95., 950.,  44.,  41.,\n",
       "        28.,  90., 163., 680., 850., 125., 300., 128., 450., 100.,  43.,\n",
       "        42., 130., 165., 750., 470., 370., 700.,  58.,  99., 158., 170.,\n",
       "       114.,  89., 320.,  63., 600., 800.,  82., 150.,  85.,  96., 520.,\n",
       "       180., 260., 550.,  72.,  74.,  77.,  54., 160.,  83.,  57., 580.,\n",
       "         8., 148., 155., 420., 222.,  67.,  78., 140.,  98., 108., 380.,\n",
       "       118.,  48., 197., 185., 290., 900., 208.,  51., 126.,  75., 330.,\n",
       "       135., 210., 360., 999., 138., 230.,  79., 225., 280., 115.])"
      ]
     },
     "execution_count": 13,
     "metadata": {},
     "output_type": "execute_result"
    }
   ],
   "source": [
    "# Check if the price is not in dinar (thousands of dinar)\n",
    "df.price.unique()[df.price.unique()<1000]"
   ]
  },
  {
   "cell_type": "markdown",
   "metadata": {},
   "source": [
    "Some price entries are in ten thousand dinars (ex: 25 -> 25000)\n",
    "Others are misspelled (0 is extra or missing)"
   ]
  },
  {
   "cell_type": "code",
   "execution_count": 14,
   "metadata": {
    "scrolled": false
   },
   "outputs": [
    {
     "data": {
      "text/plain": [
       "array(['2021', '2008', '1999', '2019', '2013', '2009', '2000', '2012',\n",
       "       '2010', '2004', '2016', '2002', '1997', '89', '2011', '2005',\n",
       "       '5000', '2014', '1880', '1996', '2018', '1992', '1987', '2001',\n",
       "       '2015', '2007', '112019', '2003', '2017', '1998', '2020', '216',\n",
       "       '1984', '1994', '1991', '1985', '1986', '1993', '2222', '1995',\n",
       "       '97', '2006', '25072018', '98984991', '1988', '1977', '10', '1990',\n",
       "       '1982', '0', '207', '12222', '86', '1989', '9', '555', '88',\n",
       "       '222222', '8', '1983', '1981', '66', '96', '2222222', '68', '123',\n",
       "       '1', '11111', 'BMW', '211', '87', '13', '95', '1111', '98',\n",
       "       '93835898', '111111', '1979', '1978', '93', '90', '92', '11',\n",
       "       '1980', '213', '1900', '47', '9999', '20000', '1000', '99713043',\n",
       "       '766', '200000', '19998', '7', '122006', '111', '5', '94', '20',\n",
       "       '1950', '2', '101', '1960', '75000', '111112', '85', '1969', '25',\n",
       "       '999', '12', '200', '95063694', '102019', '203', '199', '1111111',\n",
       "       '201', '1222', '51056308', '99999', '19999', '90555', '1975',\n",
       "       '872772', '27', '91', '116', '75', '199999999', '209', '897900',\n",
       "       '202', '18', '50', '222', '78', '79', '99', '14', '-1', '45',\n",
       "       '-1999', '23', '82', '1964', '12500', '185', '2021201', '82004',\n",
       "       '210', '1198', '26121996', '214', '7983', '2147483647', '55628094',\n",
       "       '2558', '21042015', '60', '10000', '6', '235', '1976', '218',\n",
       "       '7666555', '100000000', '1234', '1779', '65766654', '15',\n",
       "       '29736560', '74', '8588888', '1899', '970', '1890', '1970',\n",
       "       '679797', '212', '205', '-9', '22222', '2232', '55', '215',\n",
       "       '-1995', '1995568', '5555', '55555', '25555', '1965', '999999',\n",
       "       '204', '81', '1012', '6112018', '2071', '20041109', '76', '407',\n",
       "       '2103', '80', '58', '19', '93080172', '5555555', '12000', '-2001',\n",
       "       '40', '2580', '3', '206', '340002018', '2000000', '4', '1700',\n",
       "       '91990', '4444'], dtype=object)"
      ]
     },
     "execution_count": 14,
     "metadata": {},
     "output_type": "execute_result"
    }
   ],
   "source": [
    "df.annee.unique()"
   ]
  },
  {
   "cell_type": "markdown",
   "metadata": {},
   "source": [
    "*Annee* data is very messed, but we can use the data inside *date*, which seems clean."
   ]
  },
  {
   "cell_type": "markdown",
   "metadata": {},
   "source": [
    "clearly this date refers to when the offer was inserted in Tayara, not the date of acquisition of the car. Thus it is not a very important information"
   ]
  },
  {
   "cell_type": "markdown",
   "metadata": {},
   "source": [
    "## Preprocess"
   ]
  },
  {
   "cell_type": "code",
   "execution_count": 15,
   "metadata": {
    "scrolled": true
   },
   "outputs": [
    {
     "name": "stdout",
     "output_type": "stream",
     "text": [
      "<class 'pandas.core.frame.DataFrame'>\n",
      "Int64Index: 10722 entries, 0 to 10729\n",
      "Data columns (total 12 columns):\n",
      " #   Column      Non-Null Count  Dtype  \n",
      "---  ------      --------------  -----  \n",
      " 0   Unnamed: 0  10722 non-null  int64  \n",
      " 1   location    10722 non-null  object \n",
      " 2   km          10722 non-null  float64\n",
      " 3   annee       10722 non-null  object \n",
      " 4   marque      10722 non-null  object \n",
      " 5   model       10722 non-null  object \n",
      " 6   date        10722 non-null  object \n",
      " 7   price       10722 non-null  float64\n",
      " 8   carburant   10722 non-null  object \n",
      " 9   puissance   10722 non-null  object \n",
      " 10  boite       10722 non-null  object \n",
      " 11  cylindre    10722 non-null  object \n",
      "dtypes: float64(2), int64(1), object(9)\n",
      "memory usage: 1.1+ MB\n"
     ]
    }
   ],
   "source": [
    "#work on a copy of the original dataset\n",
    "data = df\n",
    "data.info()"
   ]
  },
  {
   "cell_type": "code",
   "execution_count": 16,
   "metadata": {},
   "outputs": [],
   "source": [
    "# drop first unused column\n",
    "data = data.drop('Unnamed: 0',axis=1)\n",
    "# drop a wrong entry\n",
    "data = data.drop(data[data['annee']=='BMW'].index,axis=0)\n",
    "# rename color column\n",
    "data.rename(columns={'boite':'couleur'},inplace=True)\n",
    "data.couleur.unique()\n",
    "# handle color \n",
    "dict_couleur={'Nouveau':math.nan,'Manuelle':math.nan,\n",
    "       'Avec kilométrage':math.nan, 'Autre':math.nan, 'Berline':math.nan, '4 x 4':math.nan,\n",
    "       'Automatique':math.nan,'Autres':math.nan,\n",
    "       'Utilitaire':math.nan, 'Compacte':math.nan, 'Cabriolet':math.nan, 'Monospace':math.nan, 'RS':math.nan,\n",
    "        'Pick up':math.nan, 'Pièces manquantes':math.nan}\n",
    "data.couleur=data['couleur'].replace(dict_couleur) \n",
    "data.couleur.fillna(data.couleur.mode()[0],inplace=True)"
   ]
  },
  {
   "cell_type": "code",
   "execution_count": 17,
   "metadata": {},
   "outputs": [],
   "source": [
    "# extract city name and drop location\n",
    "data.location=data['location'].map(gouv_name,na_action='ignore')\n",
    "data.location.fillna(data.location.mode()[0],inplace=True)"
   ]
  },
  {
   "cell_type": "code",
   "execution_count": 18,
   "metadata": {},
   "outputs": [
    {
     "data": {
      "text/plain": [
       "[Text(0.5, 0, 'puissance in CH'), Text(0.5, 1.0, 'boxplot')]"
      ]
     },
     "execution_count": 18,
     "metadata": {},
     "output_type": "execute_result"
    },
    {
     "data": {
      "image/png": "[encoded data removed]",
      "text/plain": [
       "<Figure size 432x288 with 1 Axes>"
      ]
     },
     "metadata": {
      "needs_background": "light"
     },
     "output_type": "display_data"
    }
   ],
   "source": [
    "# Handle horse power data\n",
    "\n",
    "data.puissance=pd.to_numeric(data.puissance,errors='coerce')\n",
    "data.dropna(axis=0, how='any', thresh=None, subset=['puissance'], inplace=True)\n",
    "data.puissance=data['puissance'].map(puissance_rec,na_action='ignore')\n",
    "data.dropna(axis=0, how='any', thresh=None, subset=['puissance'], inplace=True)\n",
    "data['puissance']=data['puissance'].astype(int)\n",
    "# plot horse power data\n",
    "ax = sb.boxplot(data=data['puissance'],orient='h',palette='Set2')\n",
    "ax.set(xlabel='puissance in CH',title='boxplot')"
   ]
  },
  {
   "cell_type": "code",
   "execution_count": 19,
   "metadata": {
    "scrolled": false
   },
   "outputs": [
    {
     "data": {
      "text/plain": [
       "count    10131.000000\n",
       "mean         6.270358\n",
       "std          2.489990\n",
       "min          2.000000\n",
       "25%          5.000000\n",
       "50%          6.000000\n",
       "75%          7.000000\n",
       "max         25.000000\n",
       "Name: puissance, dtype: float64"
      ]
     },
     "execution_count": 19,
     "metadata": {},
     "output_type": "execute_result"
    }
   ],
   "source": [
    "data.puissance.describe()"
   ]
  },
  {
   "cell_type": "code",
   "execution_count": 20,
   "metadata": {},
   "outputs": [
    {
     "data": {
      "text/plain": [
       "[Text(0.5, 0, 'annee'), Text(0.5, 1.0, 'boxplot')]"
      ]
     },
     "execution_count": 20,
     "metadata": {},
     "output_type": "execute_result"
    },
    {
     "data": {
      "image/png": "[encoded data removed]",
      "text/plain": [
       "<Figure size 432x288 with 1 Axes>"
      ]
     },
     "metadata": {
      "needs_background": "light"
     },
     "output_type": "display_data"
    }
   ],
   "source": [
    "# Handle year data\n",
    "data['annee']=data['annee'].astype(int)\n",
    "data['annee']=data['annee'].map(annee_rec,na_action='ignore')\n",
    "data.fillna(round(data['annee'].mean()), inplace=True)\n",
    "\n",
    "ax = sb.boxplot(data=data['annee'],orient='h',palette='Set2')\n",
    "ax.set(xlabel='annee',title='boxplot')"
   ]
  },
  {
   "cell_type": "code",
   "execution_count": 21,
   "metadata": {
    "scrolled": true
   },
   "outputs": [
    {
     "data": {
      "text/plain": [
       "[Text(0.5, 0, 'price'), Text(0.5, 1.0, 'boxplot')]"
      ]
     },
     "execution_count": 21,
     "metadata": {},
     "output_type": "execute_result"
    },
    {
     "data": {
      "image/png": "[encoded data removed]",
      "text/plain": [
       "<Figure size 432x288 with 1 Axes>"
      ]
     },
     "metadata": {
      "needs_background": "light"
     },
     "output_type": "display_data"
    }
   ],
   "source": [
    "# Handle price \n",
    "data.price=data['price'].map(price_rec)\n",
    "data.dropna(axis=0, how='any', thresh=None, subset=['price'], inplace=True)\n",
    "\n",
    "ax = sb.boxplot(data=data['price'],orient='h',palette='Set2')\n",
    "ax.set(xlabel='price',title='boxplot')"
   ]
  },
  {
   "cell_type": "code",
   "execution_count": 22,
   "metadata": {},
   "outputs": [
    {
     "name": "stderr",
     "output_type": "stream",
     "text": [
      "C:\\Users\\omarb\\anaconda3\\lib\\site-packages\\seaborn\\_decorators.py:36: FutureWarning: Pass the following variable as a keyword arg: x. From version 0.12, the only valid positional argument will be `data`, and passing other arguments without an explicit keyword will result in an error or misinterpretation.\n",
      "  warnings.warn(\n"
     ]
    },
    {
     "data": {
      "text/plain": [
       "[Text(0.5, 0, 'km'), Text(0.5, 1.0, 'boxplot')]"
      ]
     },
     "execution_count": 22,
     "metadata": {},
     "output_type": "execute_result"
    },
    {
     "data": {
      "image/png": "[encoded data removed]",
      "text/plain": [
       "<Figure size 432x288 with 1 Axes>"
      ]
     },
     "metadata": {
      "needs_background": "light"
     },
     "output_type": "display_data"
    }
   ],
   "source": [
    "# Handle km \n",
    "data['km']=data['km'].map(km_rec,na_action='ignore')\n",
    "data.dropna(axis=0, how='any', thresh=None, subset=['km'], inplace=True)\n",
    "ax = sb.boxplot(data['km'],palette='Set2')\n",
    "ax.set(xlabel='km',title='boxplot')"
   ]
  },
  {
   "cell_type": "code",
   "execution_count": 23,
   "metadata": {
    "scrolled": true
   },
   "outputs": [
    {
     "data": {
      "text/plain": [
       "location     0\n",
       "km           0\n",
       "annee        0\n",
       "marque       0\n",
       "model        0\n",
       "date         0\n",
       "price        0\n",
       "carburant    0\n",
       "puissance    0\n",
       "couleur      0\n",
       "cylindre     0\n",
       "dtype: int64"
      ]
     },
     "execution_count": 23,
     "metadata": {},
     "output_type": "execute_result"
    }
   ],
   "source": [
    "data.isnull().sum()"
   ]
  },
  {
   "cell_type": "code",
   "execution_count": 24,
   "metadata": {
    "scrolled": false
   },
   "outputs": [],
   "source": [
    "# take logical km values\n",
    "mask= ((data.km >= 600000) & (data.km<=0))\n",
    "data.drop(data[mask].index, inplace=True)\n",
    "\n",
    "# take price values under 200k\n",
    "mask =((data.price >= 200000) & (data.price<=1000))\n",
    "data.drop(data[mask].index,inplace=True)"
   ]
  },
  {
   "cell_type": "code",
   "execution_count": 25,
   "metadata": {
    "scrolled": false
   },
   "outputs": [
    {
     "name": "stdout",
     "output_type": "stream",
     "text": [
      "<class 'pandas.core.frame.DataFrame'>\n",
      "Int64Index: 8827 entries, 5 to 10729\n",
      "Data columns (total 11 columns):\n",
      " #   Column     Non-Null Count  Dtype  \n",
      "---  ------     --------------  -----  \n",
      " 0   location   8827 non-null   object \n",
      " 1   km         8827 non-null   float64\n",
      " 2   year       8827 non-null   float64\n",
      " 3   brand      8827 non-null   object \n",
      " 4   model      8827 non-null   object \n",
      " 5   date       8827 non-null   object \n",
      " 6   price      8827 non-null   float64\n",
      " 7   Fuel_Type  8827 non-null   object \n",
      " 8   Horse_pow  8827 non-null   int32  \n",
      " 9   Color      8827 non-null   object \n",
      " 10  type       8827 non-null   object \n",
      "dtypes: float64(3), int32(1), object(7)\n",
      "memory usage: 1.1+ MB\n"
     ]
    }
   ],
   "source": [
    "newCols = {'km':'km','annee':'year','marque':'brand','carburant':'Fuel_Type','couleur':'Color','puissance':'Horse_pow','cylindre':'type'}\n",
    "data.rename(columns=newCols, inplace=True)\n",
    "data.info()"
   ]
  },
  {
   "cell_type": "code",
   "execution_count": 26,
   "metadata": {},
   "outputs": [],
   "source": [
    "# replace years with number of years\n",
    "data['year']=data['year'].astype(int)\n",
    "data['Current Year']=2021\n",
    "data['nb_year']=data['Current Year']- data['year']\n",
    "data=data.drop(['Current Year'],axis=1)"
   ]
  },
  {
   "cell_type": "code",
   "execution_count": 27,
   "metadata": {
    "scrolled": false
   },
   "outputs": [
    {
     "data": {
      "text/plain": [
       "count      1298.000000\n",
       "mean      29980.961479\n",
       "std       18749.356307\n",
       "min        1000.000000\n",
       "25%       16500.000000\n",
       "50%       26500.000000\n",
       "75%       39375.000000\n",
       "max      200000.000000\n",
       "Name: price, dtype: float64"
      ]
     },
     "execution_count": 27,
     "metadata": {},
     "output_type": "execute_result"
    }
   ],
   "source": [
    "data[data.brand=='Volkswagen'].price.describe()"
   ]
  },
  {
   "cell_type": "code",
   "execution_count": 28,
   "metadata": {},
   "outputs": [
    {
     "name": "stdout",
     "output_type": "stream",
     "text": [
      "{'location': {'Tunis': 1, 'Sfax': 2, 'Nabeul': 3, 'Sousse': 4, 'Ariana': 5, 'Zaghouan': 6, 'Ben arous': 7, 'Bizerte': 8, 'Siliana': 9, 'Le kef': 10, 'Tataouine': 11, 'Jendouba': 12, 'Médenine': 13, 'Béja': 14, 'Monastir': 15, 'La manouba': 16, 'Gabès': 17, 'Kébili': 18, 'Sidi bouzid': 19, 'Mahdia': 20, 'Kairouan': 21, 'Gafsa': 22, 'Tozeur': 23, 'Kasserine': 24}}\n"
     ]
    }
   ],
   "source": [
    "# location encoding\n",
    "locations = data.location.unique()\n",
    "code = list(range(1,len(locations)+1))\n",
    "loc_dict = dict(zip(locations,code))\n",
    "loc_dict = {'location':loc_dict}\n",
    "data.replace(loc_dict,inplace=True)\n",
    "data\n",
    "print(loc_dict)"
   ]
  },
  {
   "cell_type": "code",
   "execution_count": 29,
   "metadata": {
    "scrolled": false
   },
   "outputs": [
    {
     "name": "stdout",
     "output_type": "stream",
     "text": [
      "{'brand': {'Volkswagen': 1, 'Peugeot': 2, 'BMW': 3, 'Isuzu': 4, 'Nissan': 5, 'Citroen': 6, 'Mercedes-Benz': 7, 'Fiat': 8, 'Ford': 9, 'Mazda': 10, 'Hyundai': 11, 'Renault': 12, 'Audi': 13, 'Seat': 14, 'Mitsubishi': 15, 'Chevrolet': 16, 'Chery': 17, 'Kia': 18, 'Opel': 19, 'Toyota': 20, 'Suzuki': 21, 'Ssangyong': 22, 'Iveco': 23, 'Autres': 24, 'Acrea': 25, 'Skoda': 26, 'AC': 27, 'Jeep': 28, 'Smart': 29, 'Dacia': 30, 'Land Rover': 31, 'Mahindra': 32, 'Porsche': 33, 'Daihatsu': 34, 'mini': 35, 'Honda': 36, 'Alfa Romeo': 37, 'Daewoo': 38, 'Volvo': 39, 'Jaguar': 40, 'Aston Martin': 41, 'Dodge': 42, 'Changhe': 43, 'Cadillac': 44, 'Geely': 45, 'Man': 46, 'UFO': 47, 'lancia': 48, 'Infiniti': 49, 'Chrysler': 50, 'Subaru': 51, 'Rover': 52, 'Foton': 53, 'BYD': 54, 'Bentley': 55, 'Maserati': 56, 'Hummer': 57}}\n"
     ]
    }
   ],
   "source": [
    "# Brand encoding\n",
    "brands = data.brand.unique()\n",
    "code = list(range(1,len(brands)+1))\n",
    "brand_dict = dict(zip(brands,code))\n",
    "brand_dict = {'brand':brand_dict}\n",
    "data.replace(brand_dict,inplace=True)\n",
    "data\n",
    "print(brand_dict)"
   ]
  },
  {
   "cell_type": "code",
   "execution_count": 30,
   "metadata": {},
   "outputs": [
    {
     "name": "stdout",
     "output_type": "stream",
     "text": [
      "{'Fuel_Type': {'Essence': 1, 'Diesel': 2, 'Hybride': 3, 'Electrique': 4}}\n"
     ]
    }
   ],
   "source": [
    "# Fuel_type encoding\n",
    "Fuel_Types = data.Fuel_Type.unique()\n",
    "code = list(range(1,len(Fuel_Types)+1))\n",
    "Fuel_Type_dict = dict(zip(Fuel_Types,code))\n",
    "Fuel_Type_dict = {'Fuel_Type':Fuel_Type_dict}\n",
    "data.replace(Fuel_Type_dict,inplace=True)\n",
    "data\n",
    "print(Fuel_Type_dict)"
   ]
  },
  {
   "cell_type": "code",
   "execution_count": 31,
   "metadata": {
    "scrolled": true
   },
   "outputs": [
    {
     "data": {
      "text/plain": [
       "array(['Manuelle', 'Compacte', 'Berline', 'Autres', '4 x 4',\n",
       "       'Avec kilométrage', 'Utilitaire', 'Monospace', 'Cabriolet',\n",
       "       'Nouveau', 'Pick up', 'Automatique', 'Pièces manquantes', 'RS',\n",
       "       'Non dédouanné'], dtype=object)"
      ]
     },
     "execution_count": 31,
     "metadata": {},
     "output_type": "execute_result"
    }
   ],
   "source": [
    "# handle type column\n",
    "## get indexes of non numeric data\n",
    "a = pd.to_numeric(data['type'],errors='coerce')\n",
    "not_type=a[a.isnull()==True].index.tolist()\n",
    "\n",
    "data=data.loc[not_type]\n",
    "## filter out \n",
    "mask =((data.type=='&gt;4.0') | (data.type=='&lt;1.0'))\n",
    "data.drop(data[mask].index,inplace=True)\n",
    "\n",
    "data.type.unique()"
   ]
  },
  {
   "cell_type": "code",
   "execution_count": 32,
   "metadata": {},
   "outputs": [
    {
     "data": {
      "text/html": [
       "<div>\n",
       "<style scoped>\n",
       "    .dataframe tbody tr th:only-of-type {\n",
       "        vertical-align: middle;\n",
       "    }\n",
       "\n",
       "    .dataframe tbody tr th {\n",
       "        vertical-align: top;\n",
       "    }\n",
       "\n",
       "    .dataframe thead th {\n",
       "        text-align: right;\n",
       "    }\n",
       "</style>\n",
       "<table border=\"1\" class=\"dataframe\">\n",
       "  <thead>\n",
       "    <tr style=\"text-align: right;\">\n",
       "      <th></th>\n",
       "      <th>location</th>\n",
       "      <th>km</th>\n",
       "      <th>year</th>\n",
       "      <th>brand</th>\n",
       "      <th>model</th>\n",
       "      <th>date</th>\n",
       "      <th>price</th>\n",
       "      <th>Fuel_Type</th>\n",
       "      <th>Horse_pow</th>\n",
       "      <th>Color</th>\n",
       "      <th>type</th>\n",
       "      <th>nb_year</th>\n",
       "    </tr>\n",
       "  </thead>\n",
       "  <tbody>\n",
       "    <tr>\n",
       "      <th>5</th>\n",
       "      <td>1</td>\n",
       "      <td>29000.0</td>\n",
       "      <td>2019</td>\n",
       "      <td>1</td>\n",
       "      <td>Polo</td>\n",
       "      <td>14 mars 2021</td>\n",
       "      <td>45000.0</td>\n",
       "      <td>1</td>\n",
       "      <td>5</td>\n",
       "      <td>Blanc</td>\n",
       "      <td>Manuelle</td>\n",
       "      <td>2</td>\n",
       "    </tr>\n",
       "    <tr>\n",
       "      <th>6</th>\n",
       "      <td>1</td>\n",
       "      <td>122000.0</td>\n",
       "      <td>2013</td>\n",
       "      <td>2</td>\n",
       "      <td>208</td>\n",
       "      <td>13 mars 2021</td>\n",
       "      <td>26800.0</td>\n",
       "      <td>1</td>\n",
       "      <td>5</td>\n",
       "      <td>Marron</td>\n",
       "      <td>Compacte</td>\n",
       "      <td>8</td>\n",
       "    </tr>\n",
       "    <tr>\n",
       "      <th>7</th>\n",
       "      <td>2</td>\n",
       "      <td>251000.0</td>\n",
       "      <td>2009</td>\n",
       "      <td>3</td>\n",
       "      <td>Serie 1</td>\n",
       "      <td>13 mars 2021</td>\n",
       "      <td>32000.0</td>\n",
       "      <td>1</td>\n",
       "      <td>7</td>\n",
       "      <td>Noir</td>\n",
       "      <td>Berline</td>\n",
       "      <td>12</td>\n",
       "    </tr>\n",
       "    <tr>\n",
       "      <th>8</th>\n",
       "      <td>3</td>\n",
       "      <td>300000.0</td>\n",
       "      <td>2013</td>\n",
       "      <td>4</td>\n",
       "      <td>D-MAX</td>\n",
       "      <td>13 mars 2021</td>\n",
       "      <td>62000.0</td>\n",
       "      <td>2</td>\n",
       "      <td>8</td>\n",
       "      <td>Gris</td>\n",
       "      <td>Autres</td>\n",
       "      <td>8</td>\n",
       "    </tr>\n",
       "    <tr>\n",
       "      <th>9</th>\n",
       "      <td>2</td>\n",
       "      <td>315000.0</td>\n",
       "      <td>2000</td>\n",
       "      <td>2</td>\n",
       "      <td>406</td>\n",
       "      <td>13 mars 2021</td>\n",
       "      <td>17000.0</td>\n",
       "      <td>1</td>\n",
       "      <td>7</td>\n",
       "      <td>Gris</td>\n",
       "      <td>Berline</td>\n",
       "      <td>21</td>\n",
       "    </tr>\n",
       "    <tr>\n",
       "      <th>...</th>\n",
       "      <td>...</td>\n",
       "      <td>...</td>\n",
       "      <td>...</td>\n",
       "      <td>...</td>\n",
       "      <td>...</td>\n",
       "      <td>...</td>\n",
       "      <td>...</td>\n",
       "      <td>...</td>\n",
       "      <td>...</td>\n",
       "      <td>...</td>\n",
       "      <td>...</td>\n",
       "      <td>...</td>\n",
       "    </tr>\n",
       "    <tr>\n",
       "      <th>10725</th>\n",
       "      <td>7</td>\n",
       "      <td>86000.0</td>\n",
       "      <td>2013</td>\n",
       "      <td>2</td>\n",
       "      <td>208</td>\n",
       "      <td>6 février 2021</td>\n",
       "      <td>28800.0</td>\n",
       "      <td>1</td>\n",
       "      <td>5</td>\n",
       "      <td>Bleu</td>\n",
       "      <td>Compacte</td>\n",
       "      <td>8</td>\n",
       "    </tr>\n",
       "    <tr>\n",
       "      <th>10726</th>\n",
       "      <td>22</td>\n",
       "      <td>232000.0</td>\n",
       "      <td>2009</td>\n",
       "      <td>12</td>\n",
       "      <td>Megane</td>\n",
       "      <td>6 février 2021</td>\n",
       "      <td>23500.0</td>\n",
       "      <td>1</td>\n",
       "      <td>6</td>\n",
       "      <td>Noir</td>\n",
       "      <td>Berline</td>\n",
       "      <td>12</td>\n",
       "    </tr>\n",
       "    <tr>\n",
       "      <th>10727</th>\n",
       "      <td>2</td>\n",
       "      <td>101000.0</td>\n",
       "      <td>2015</td>\n",
       "      <td>18</td>\n",
       "      <td>Rio</td>\n",
       "      <td>6 février 2021</td>\n",
       "      <td>37500.0</td>\n",
       "      <td>1</td>\n",
       "      <td>5</td>\n",
       "      <td>Noir</td>\n",
       "      <td>Berline</td>\n",
       "      <td>6</td>\n",
       "    </tr>\n",
       "    <tr>\n",
       "      <th>10728</th>\n",
       "      <td>11</td>\n",
       "      <td>273000.0</td>\n",
       "      <td>2008</td>\n",
       "      <td>1</td>\n",
       "      <td>Passat</td>\n",
       "      <td>6 février 2021</td>\n",
       "      <td>29000.0</td>\n",
       "      <td>1</td>\n",
       "      <td>7</td>\n",
       "      <td>Noir</td>\n",
       "      <td>Autres</td>\n",
       "      <td>13</td>\n",
       "    </tr>\n",
       "    <tr>\n",
       "      <th>10729</th>\n",
       "      <td>5</td>\n",
       "      <td>148000.0</td>\n",
       "      <td>2016</td>\n",
       "      <td>1</td>\n",
       "      <td>Passat</td>\n",
       "      <td>6 février 2021</td>\n",
       "      <td>65000.0</td>\n",
       "      <td>1</td>\n",
       "      <td>7</td>\n",
       "      <td>Noir</td>\n",
       "      <td>Berline</td>\n",
       "      <td>5</td>\n",
       "    </tr>\n",
       "  </tbody>\n",
       "</table>\n",
       "<p>8270 rows × 12 columns</p>\n",
       "</div>"
      ],
      "text/plain": [
       "       location        km  year  brand    model            date    price  \\\n",
       "5             1   29000.0  2019      1     Polo    14 mars 2021  45000.0   \n",
       "6             1  122000.0  2013      2      208    13 mars 2021  26800.0   \n",
       "7             2  251000.0  2009      3  Serie 1    13 mars 2021  32000.0   \n",
       "8             3  300000.0  2013      4    D-MAX    13 mars 2021  62000.0   \n",
       "9             2  315000.0  2000      2      406    13 mars 2021  17000.0   \n",
       "...         ...       ...   ...    ...      ...             ...      ...   \n",
       "10725         7   86000.0  2013      2      208  6 février 2021  28800.0   \n",
       "10726        22  232000.0  2009     12   Megane  6 février 2021  23500.0   \n",
       "10727         2  101000.0  2015     18      Rio  6 février 2021  37500.0   \n",
       "10728        11  273000.0  2008      1   Passat  6 février 2021  29000.0   \n",
       "10729         5  148000.0  2016      1   Passat  6 février 2021  65000.0   \n",
       "\n",
       "       Fuel_Type  Horse_pow   Color      type  nb_year  \n",
       "5              1          5   Blanc  Manuelle        2  \n",
       "6              1          5  Marron  Compacte        8  \n",
       "7              1          7    Noir   Berline       12  \n",
       "8              2          8    Gris    Autres        8  \n",
       "9              1          7    Gris   Berline       21  \n",
       "...          ...        ...     ...       ...      ...  \n",
       "10725          1          5    Bleu  Compacte        8  \n",
       "10726          1          6    Noir   Berline       12  \n",
       "10727          1          5    Noir   Berline        6  \n",
       "10728          1          7    Noir    Autres       13  \n",
       "10729          1          7    Noir   Berline        5  \n",
       "\n",
       "[8270 rows x 12 columns]"
      ]
     },
     "execution_count": 32,
     "metadata": {},
     "output_type": "execute_result"
    }
   ],
   "source": [
    "data"
   ]
  },
  {
   "cell_type": "code",
   "execution_count": 33,
   "metadata": {},
   "outputs": [
    {
     "name": "stdout",
     "output_type": "stream",
     "text": [
      "{'type': {'Manuelle': 1, 'Compacte': 2, 'Berline': 3, 'Autres': 4, '4 x 4': 5, 'Avec kilométrage': 6, 'Utilitaire': 7, 'Monospace': 8, 'Cabriolet': 9, 'Nouveau': 10, 'Pick up': 11, 'Automatique': 12, 'Pièces manquantes': 13, 'RS': 14, 'Non dédouanné': 15}}\n"
     ]
    }
   ],
   "source": [
    "types = data.type.unique()\n",
    "code = list(range(1,len(types)+1))\n",
    "type_dict = dict(zip(types,code))\n",
    "type_dict = {'type':type_dict}\n",
    "data.replace(type_dict,inplace=True)\n",
    "print(type_dict)"
   ]
  },
  {
   "cell_type": "code",
   "execution_count": 34,
   "metadata": {},
   "outputs": [
    {
     "data": {
      "text/html": [
       "<div>\n",
       "<style scoped>\n",
       "    .dataframe tbody tr th:only-of-type {\n",
       "        vertical-align: middle;\n",
       "    }\n",
       "\n",
       "    .dataframe tbody tr th {\n",
       "        vertical-align: top;\n",
       "    }\n",
       "\n",
       "    .dataframe thead th {\n",
       "        text-align: right;\n",
       "    }\n",
       "</style>\n",
       "<table border=\"1\" class=\"dataframe\">\n",
       "  <thead>\n",
       "    <tr style=\"text-align: right;\">\n",
       "      <th></th>\n",
       "      <th>location</th>\n",
       "      <th>km</th>\n",
       "      <th>year</th>\n",
       "      <th>brand</th>\n",
       "      <th>price</th>\n",
       "      <th>Fuel_Type</th>\n",
       "      <th>Horse_pow</th>\n",
       "      <th>type</th>\n",
       "      <th>nb_year</th>\n",
       "    </tr>\n",
       "  </thead>\n",
       "  <tbody>\n",
       "    <tr>\n",
       "      <th>count</th>\n",
       "      <td>8270.000000</td>\n",
       "      <td>8270.000000</td>\n",
       "      <td>8270.000000</td>\n",
       "      <td>8270.000000</td>\n",
       "      <td>8270.000000</td>\n",
       "      <td>8270.000000</td>\n",
       "      <td>8270.000000</td>\n",
       "      <td>8270.000000</td>\n",
       "      <td>8270.000000</td>\n",
       "    </tr>\n",
       "    <tr>\n",
       "      <th>mean</th>\n",
       "      <td>6.429141</td>\n",
       "      <td>189488.683676</td>\n",
       "      <td>2008.256711</td>\n",
       "      <td>9.229141</td>\n",
       "      <td>29700.037001</td>\n",
       "      <td>1.355865</td>\n",
       "      <td>6.212455</td>\n",
       "      <td>3.811004</td>\n",
       "      <td>12.743289</td>\n",
       "    </tr>\n",
       "    <tr>\n",
       "      <th>std</th>\n",
       "      <td>6.344296</td>\n",
       "      <td>113957.148772</td>\n",
       "      <td>8.061755</td>\n",
       "      <td>7.970868</td>\n",
       "      <td>21668.175654</td>\n",
       "      <td>0.486073</td>\n",
       "      <td>2.361145</td>\n",
       "      <td>2.173889</td>\n",
       "      <td>8.061755</td>\n",
       "    </tr>\n",
       "    <tr>\n",
       "      <th>min</th>\n",
       "      <td>1.000000</td>\n",
       "      <td>1000.000000</td>\n",
       "      <td>1976.000000</td>\n",
       "      <td>1.000000</td>\n",
       "      <td>1000.000000</td>\n",
       "      <td>1.000000</td>\n",
       "      <td>2.000000</td>\n",
       "      <td>1.000000</td>\n",
       "      <td>0.000000</td>\n",
       "    </tr>\n",
       "    <tr>\n",
       "      <th>25%</th>\n",
       "      <td>1.000000</td>\n",
       "      <td>113000.000000</td>\n",
       "      <td>2004.000000</td>\n",
       "      <td>2.000000</td>\n",
       "      <td>16000.000000</td>\n",
       "      <td>1.000000</td>\n",
       "      <td>5.000000</td>\n",
       "      <td>2.000000</td>\n",
       "      <td>6.000000</td>\n",
       "    </tr>\n",
       "    <tr>\n",
       "      <th>50%</th>\n",
       "      <td>4.000000</td>\n",
       "      <td>180000.000000</td>\n",
       "      <td>2010.000000</td>\n",
       "      <td>8.000000</td>\n",
       "      <td>25000.000000</td>\n",
       "      <td>1.000000</td>\n",
       "      <td>5.000000</td>\n",
       "      <td>3.000000</td>\n",
       "      <td>11.000000</td>\n",
       "    </tr>\n",
       "    <tr>\n",
       "      <th>75%</th>\n",
       "      <td>8.000000</td>\n",
       "      <td>250000.000000</td>\n",
       "      <td>2015.000000</td>\n",
       "      <td>12.000000</td>\n",
       "      <td>36000.000000</td>\n",
       "      <td>2.000000</td>\n",
       "      <td>7.000000</td>\n",
       "      <td>4.000000</td>\n",
       "      <td>17.000000</td>\n",
       "    </tr>\n",
       "    <tr>\n",
       "      <th>max</th>\n",
       "      <td>24.000000</td>\n",
       "      <td>999900.000000</td>\n",
       "      <td>2021.000000</td>\n",
       "      <td>56.000000</td>\n",
       "      <td>200000.000000</td>\n",
       "      <td>4.000000</td>\n",
       "      <td>25.000000</td>\n",
       "      <td>15.000000</td>\n",
       "      <td>45.000000</td>\n",
       "    </tr>\n",
       "  </tbody>\n",
       "</table>\n",
       "</div>"
      ],
      "text/plain": [
       "          location             km         year        brand          price  \\\n",
       "count  8270.000000    8270.000000  8270.000000  8270.000000    8270.000000   \n",
       "mean      6.429141  189488.683676  2008.256711     9.229141   29700.037001   \n",
       "std       6.344296  113957.148772     8.061755     7.970868   21668.175654   \n",
       "min       1.000000    1000.000000  1976.000000     1.000000    1000.000000   \n",
       "25%       1.000000  113000.000000  2004.000000     2.000000   16000.000000   \n",
       "50%       4.000000  180000.000000  2010.000000     8.000000   25000.000000   \n",
       "75%       8.000000  250000.000000  2015.000000    12.000000   36000.000000   \n",
       "max      24.000000  999900.000000  2021.000000    56.000000  200000.000000   \n",
       "\n",
       "         Fuel_Type    Horse_pow         type      nb_year  \n",
       "count  8270.000000  8270.000000  8270.000000  8270.000000  \n",
       "mean      1.355865     6.212455     3.811004    12.743289  \n",
       "std       0.486073     2.361145     2.173889     8.061755  \n",
       "min       1.000000     2.000000     1.000000     0.000000  \n",
       "25%       1.000000     5.000000     2.000000     6.000000  \n",
       "50%       1.000000     5.000000     3.000000    11.000000  \n",
       "75%       2.000000     7.000000     4.000000    17.000000  \n",
       "max       4.000000    25.000000    15.000000    45.000000  "
      ]
     },
     "execution_count": 34,
     "metadata": {},
     "output_type": "execute_result"
    }
   ],
   "source": [
    "data.describe()"
   ]
  },
  {
   "cell_type": "markdown",
   "metadata": {},
   "source": [
    "## Visualization"
   ]
  },
  {
   "cell_type": "code",
   "execution_count": 35,
   "metadata": {},
   "outputs": [],
   "source": [
    "ex = data[data['type']=='4 x 4']"
   ]
  },
  {
   "cell_type": "code",
   "execution_count": 36,
   "metadata": {},
   "outputs": [
    {
     "name": "stdout",
     "output_type": "stream",
     "text": [
      "<class 'pandas.core.frame.DataFrame'>\n",
      "Int64Index: 8270 entries, 5 to 10729\n",
      "Data columns (total 12 columns):\n",
      " #   Column     Non-Null Count  Dtype  \n",
      "---  ------     --------------  -----  \n",
      " 0   location   8270 non-null   int64  \n",
      " 1   km         8270 non-null   float64\n",
      " 2   year       8270 non-null   int32  \n",
      " 3   brand      8270 non-null   int64  \n",
      " 4   model      8270 non-null   object \n",
      " 5   date       8270 non-null   object \n",
      " 6   price      8270 non-null   float64\n",
      " 7   Fuel_Type  8270 non-null   int64  \n",
      " 8   Horse_pow  8270 non-null   int32  \n",
      " 9   Color      8270 non-null   object \n",
      " 10  type       8270 non-null   int64  \n",
      " 11  nb_year    8270 non-null   int64  \n",
      "dtypes: float64(2), int32(2), int64(5), object(3)\n",
      "memory usage: 775.3+ KB\n"
     ]
    }
   ],
   "source": [
    "data.info()"
   ]
  },
  {
   "cell_type": "code",
   "execution_count": 113,
   "metadata": {
    "scrolled": false
   },
   "outputs": [
    {
     "data": {
      "image/png": "[encoded data removed]",
      "text/plain": [
       "<Figure size 864x720 with 2 Axes>"
      ]
     },
     "metadata": {
      "needs_background": "light"
     },
     "output_type": "display_data"
    }
   ],
   "source": [
    "num_columns=[c for c in data.columns if data[c].dtype !='object']\n",
    "\n",
    "plot_correlation_map(data[num_columns])"
   ]
  },
  {
   "cell_type": "code",
   "execution_count": 103,
   "metadata": {
    "scrolled": false
   },
   "outputs": [],
   "source": [
    "#sb.pairplot(data,x_vars=num_feat,y_vars='price')"
   ]
  },
  {
   "cell_type": "code",
   "execution_count": 39,
   "metadata": {
    "scrolled": false
   },
   "outputs": [
    {
     "data": {
      "text/plain": [
       "Text(0, 0.5, 'count')"
      ]
     },
     "execution_count": 39,
     "metadata": {},
     "output_type": "execute_result"
    },
    {
     "data": {
      "image/png": "[encoded data removed]",
      "text/plain": [
       "<Figure size 432x288 with 1 Axes>"
      ]
     },
     "metadata": {
      "needs_background": "light"
     },
     "output_type": "display_data"
    }
   ],
   "source": [
    "data.Horse_pow.hist()\n",
    "plt.xlabel('horse power')\n",
    "plt.ylabel('count')"
   ]
  },
  {
   "cell_type": "code",
   "execution_count": 40,
   "metadata": {
    "scrolled": true
   },
   "outputs": [
    {
     "data": {
      "text/plain": [
       "Text(0, 0.5, 'count')"
      ]
     },
     "execution_count": 40,
     "metadata": {},
     "output_type": "execute_result"
    },
    {
     "data": {
      "image/png": "[encoded data removed]",
      "text/plain": [
       "<Figure size 432x288 with 1 Axes>"
      ]
     },
     "metadata": {
      "needs_background": "light"
     },
     "output_type": "display_data"
    }
   ],
   "source": [
    "sb.histplot(data.brand,bins=58)\n",
    "plt.xlabel('nb years')\n",
    "plt.ylabel('count')\n"
   ]
  },
  {
   "cell_type": "code",
   "execution_count": 41,
   "metadata": {},
   "outputs": [],
   "source": [
    "target = data.price\n"
   ]
  },
  {
   "cell_type": "code",
   "execution_count": 115,
   "metadata": {},
   "outputs": [],
   "source": [
    "# numeric features\n",
    "num_feat = data[num_columns].drop('price',axis=1)\n"
   ]
  },
  {
   "cell_type": "markdown",
   "metadata": {},
   "source": [
    "# Regression Model"
   ]
  },
  {
   "cell_type": "markdown",
   "metadata": {},
   "source": [
    "## Linear"
   ]
  },
  {
   "cell_type": "code",
   "execution_count": 154,
   "metadata": {},
   "outputs": [
    {
     "name": "stdout",
     "output_type": "stream",
     "text": [
      "MAE:  11861.204423865154\n",
      "R squared:  0.2850645755057196\n",
      "Coefficients:  [-1397.13687305]\n",
      "b:  47457.37137179237\n",
      "RSR-ratio:  0.5927441467524566\n"
     ]
    }
   ],
   "source": [
    "#feature selection\n",
    "x = num_feat['nb_year'].values.reshape(-1, 1)\n",
    "y = target.values\n",
    "# Split data\n",
    "x_train,x_test,y_train,y_test = train_test_split(x,y,test_size=0.15,random_state=40) \n",
    "# Model and degree selection\n",
    "lg=LinearRegression()\n",
    "# train model\n",
    "lg.fit(x_train, y_train)\n",
    "predicted = lg.predict(x_test)\n",
    "# prediction error and fit#\n",
    "MAE = mean_absolute_error(y_test, predicted)\n",
    "R2_lg = metrics.r2_score(y_test,predicted)\n",
    "print(\"MAE: \", MAE)\n",
    "print(\"R squared: \",R2_lg )\n",
    "print(\"Coefficients: \", lg.coef_)\n",
    "print(\"b: \",lg.intercept_)\n",
    "print(\"RSR-ratio: \", RMSE/data['price'].std(axis=0)) # RSR = RMSE/StandardDev(Price) \n",
    "                                                           #the lower the better our model is"
   ]
  },
  {
   "cell_type": "markdown",
   "metadata": {},
   "source": [
    "## Multi-linear"
   ]
  },
  {
   "cell_type": "code",
   "execution_count": 155,
   "metadata": {},
   "outputs": [
    {
     "name": "stdout",
     "output_type": "stream",
     "text": [
      "MAE:  9158.611735954133\n",
      "R squared:  0.5023452344268726\n",
      "Accuracy increase: 76.22 %\n",
      "Coefficients:  [-1.87007108e+02 -2.71301393e-02  6.32246571e+02 -8.43890408e+01\n",
      "  1.54684319e+02  3.22114465e+03 -1.09984784e+02 -6.32246571e+02]\n",
      "b:  -1244612.8424633841\n",
      "RSR-ratio:  0.5927441467524566\n"
     ]
    }
   ],
   "source": [
    "x = num_feat.values\n",
    "y = target.values\n",
    "\n",
    "x_train,x_test,y_train,y_test = train_test_split(num_feat,target,test_size=0.15,random_state=30) \n",
    "# Model and degree selection\n",
    "multi_lg=LinearRegression()\n",
    "# train model\n",
    "multi_lg.fit(x_train, y_train)\n",
    "predicted = multi_lg.predict(x_test)\n",
    "# prediction error and fit\n",
    "MAE = mean_absolute_error(y_test, predicted)\n",
    "R2_multi_lg= metrics.r2_score(y_test,predicted)\n",
    "inc = (R2_multi_lg-R2_lg)/R2_lg *100\n",
    "print(\"MAE: \", MAE)\n",
    "print(\"R squared: \",R2_multi_lg)\n",
    "print(\"Accuracy increase: %5.2f\"%(inc),'%')\n",
    "print(\"Coefficients: \", multi_lg.coef_)\n",
    "print(\"b: \",multi_lg.intercept_)\n",
    "print(\"RSR-ratio: \", RMSE/data['price'].std(axis=0)) # RSR = RMSE/StandardDev(Price) \n",
    "                                                           #the lower the better our model is"
   ]
  },
  {
   "cell_type": "markdown",
   "metadata": {},
   "source": [
    "## Polynomial Regression"
   ]
  },
  {
   "cell_type": "code",
   "execution_count": 156,
   "metadata": {
    "scrolled": false
   },
   "outputs": [
    {
     "name": "stdout",
     "output_type": "stream",
     "text": [
      "MAE:  8129.2185513617305\n",
      "R squared:  0.5750969256568619\n",
      "Accuracy increase: 14.48 %\n",
      "Coefficients:  [ 7.10543494e-04  6.30062718e-03  3.09136959e-06 -7.51642032e-03\n",
      "  6.28624681e-03  6.17413092e-02 -1.13197768e-01  1.33181285e-02\n",
      "  7.51642425e-03 -2.80361253e+00  2.00873593e-05  6.64141393e-02\n",
      " -6.64500661e+00  5.62516269e+01 -7.13811396e+01  2.89019456e+00\n",
      "  1.35888803e+01  3.03504762e-08 -3.06994392e-05  7.80006102e-04\n",
      "  1.54335612e-04 -2.19158478e-03  1.00396804e-03  1.71491374e-03\n",
      " -4.78606911e+00 -4.29855162e-01  6.96727128e+00  5.17252773e+00\n",
      "  3.07101500e-01 -1.04046204e+01  7.14726145e+00  1.23889722e+01\n",
      "  2.41674896e+01  2.24250459e+01  1.31343817e+01 -2.50946348e+03\n",
      " -6.64580014e+02 -9.66491755e+02  1.17811911e+02 -1.48738203e+02\n",
      "  1.18705946e+02 -2.33945210e+02 -8.54642825e+01  2.66088396e+01\n",
      "  2.55953100e+01]\n",
      "b:  19553407.914179448\n",
      "RSR-ratio:  0.5927441467524566\n"
     ]
    },
    {
     "data": {
      "text/plain": [
       "<function sklearn.metrics._regression.mean_absolute_error(y_true, y_pred, *, sample_weight=None, multioutput='uniform_average')>"
      ]
     },
     "execution_count": 156,
     "metadata": {},
     "output_type": "execute_result"
    }
   ],
   "source": [
    "x = num_feat.values\n",
    "y = target.values\n",
    "# Split data\n",
    "x_train,x_test,y_train,y_test = train_test_split(x,y,test_size=0.15,random_state=30) \n",
    "# Model and degree selection\n",
    "pg=LinearRegression()\n",
    "poly = PolynomialFeatures(degree=2)\n",
    "# transform train and test input data\n",
    "x_train_fit = poly.fit_transform(x_train) \n",
    "x_test_fit = poly.transform(x_test)\n",
    "# train model\n",
    "pg.fit(x_train_fit, y_train)\n",
    "predicted = pg.predict(x_test_fit)\n",
    "# prediction error and fit\n",
    "RMSE = np.sqrt(metrics.mean_squared_error(y_test, predicted))\n",
    "R2_pg= metrics.r2_score(y_test,predicted)\n",
    "inc = (R2_pg-R2_multi_lg)/R2_multi_lg *100\n",
    "\n",
    "print(\"MAE: \", mean_absolute_error(y_test, predicted))\n",
    "print(\"R squared: \",R2_pg)\n",
    "print(\"Accuracy increase: %5.2f\"%(inc),'%')\n",
    "print(\"Coefficients: \", pg.coef_)\n",
    "print(\"b: \",pg.intercept_)\n",
    "print(\"RSR-ratio: \", RMSE/data['price'].std(axis=0)) # RSR = RMSE/StandardDev(Price) \n",
    "                                                    #the lower the better our model is\n",
    "mean_absolute_error"
   ]
  },
  {
   "cell_type": "code",
   "execution_count": 46,
   "metadata": {
    "scrolled": false
   },
   "outputs": [
    {
     "name": "stdout",
     "output_type": "stream",
     "text": [
      "{'brand': {'Volkswagen': 1, 'Peugeot': 2, 'BMW': 3, 'Isuzu': 4, 'Nissan': 5, 'Citroen': 6, 'Mercedes-Benz': 7, 'Fiat': 8, 'Ford': 9, 'Mazda': 10, 'Hyundai': 11, 'Renault': 12, 'Audi': 13, 'Seat': 14, 'Mitsubishi': 15, 'Chevrolet': 16, 'Chery': 17, 'Kia': 18, 'Opel': 19, 'Toyota': 20, 'Suzuki': 21, 'Ssangyong': 22, 'Iveco': 23, 'Autres': 24, 'Acrea': 25, 'Skoda': 26, 'AC': 27, 'Jeep': 28, 'Smart': 29, 'Dacia': 30, 'Land Rover': 31, 'Mahindra': 32, 'Porsche': 33, 'Daihatsu': 34, 'mini': 35, 'Honda': 36, 'Alfa Romeo': 37, 'Daewoo': 38, 'Volvo': 39, 'Jaguar': 40, 'Aston Martin': 41, 'Dodge': 42, 'Changhe': 43, 'Cadillac': 44, 'Geely': 45, 'Man': 46, 'UFO': 47, 'lancia': 48, 'Infiniti': 49, 'Chrysler': 50, 'Subaru': 51, 'Rover': 52, 'Foton': 53, 'BYD': 54, 'Bentley': 55, 'Maserati': 56, 'Hummer': 57}}\n"
     ]
    }
   ],
   "source": [
    "print(brand_dict)"
   ]
  },
  {
   "cell_type": "code",
   "execution_count": 47,
   "metadata": {},
   "outputs": [
    {
     "name": "stdout",
     "output_type": "stream",
     "text": [
      "{'type': {'Manuelle': 1, 'Compacte': 2, 'Berline': 3, 'Autres': 4, '4 x 4': 5, 'Avec kilométrage': 6, 'Utilitaire': 7, 'Monospace': 8, 'Cabriolet': 9, 'Nouveau': 10, 'Pick up': 11, 'Automatique': 12, 'Pièces manquantes': 13, 'RS': 14, 'Non dédouanné': 15}}\n"
     ]
    }
   ],
   "source": [
    "print(type_dict)"
   ]
  },
  {
   "cell_type": "code",
   "execution_count": 141,
   "metadata": {
    "scrolled": false
   },
   "outputs": [
    {
     "name": "stdout",
     "output_type": "stream",
     "text": [
      "location                1\n",
      "km                  80000\n",
      "year                 2014\n",
      "brand                   2\n",
      "model                 308\n",
      "date         13 mars 2021\n",
      "price               37000\n",
      "Fuel_Type               1\n",
      "Horse_pow               5\n",
      "Color                Gris\n",
      "type                    2\n",
      "nb_year                 7\n",
      "Name: 221, dtype: object\n",
      "prediction:  [38841.17040818]\n",
      "tayara price:  37000.0\n"
     ]
    }
   ],
   "source": [
    "x_pred = data[(data['brand']==2) \n",
    "               & (data['km'] <150000)\n",
    "               & (data['type']==2 )\n",
    "               & (data['Fuel_Type']==1 )\n",
    "             ]\n",
    "x_pred=x_pred.iloc[3]\n",
    "print(x_pred)\n",
    "real_price = x_pred.price\n",
    "x_pred=x_pred[num_columns].drop('price').values.reshape(1, -1)\n",
    "x_pred = poly.fit_transform(x_pred)\n",
    "price_pred = pg.predict(x_pred)\n",
    "print('prediction: ',price_pred)\n",
    "print('tayara price: ',real_price)"
   ]
  },
  {
   "cell_type": "markdown",
   "metadata": {},
   "source": [
    "# Random Forest Regressor"
   ]
  },
  {
   "cell_type": "code",
   "execution_count": 49,
   "metadata": {},
   "outputs": [],
   "source": [
    "x = num_feat.values\n",
    "y = target.values\n",
    "x_train,x_test,y_train,y_test = train_test_split(x,y,test_size=0.25,random_state=30) "
   ]
  },
  {
   "cell_type": "code",
   "execution_count": 159,
   "metadata": {},
   "outputs": [],
   "source": [
    "scaler = StandardScaler()\n",
    "\n",
    "scaler.fit(x_train)\n",
    "x_train=scaler.transform(x_train)\n",
    "x_test=scaler.transform(x_test)"
   ]
  },
  {
   "cell_type": "code",
   "execution_count": 50,
   "metadata": {
    "scrolled": false
   },
   "outputs": [
    {
     "data": {
      "text/plain": [
       "6202"
      ]
     },
     "execution_count": 50,
     "metadata": {},
     "output_type": "execute_result"
    }
   ],
   "source": [
    "len(y_train)"
   ]
  },
  {
   "cell_type": "code",
   "execution_count": 160,
   "metadata": {
    "scrolled": true
   },
   "outputs": [
    {
     "name": "stdout",
     "output_type": "stream",
     "text": [
      "tree depth:1 score:11063.086474527112\n",
      "tree depth:2 score:9721.304670290405\n",
      "tree depth:3 score:9035.312634278695\n",
      "tree depth:4 score:8365.006412004708\n",
      "tree depth:5 score:7957.171308109193\n",
      "tree depth:6 score:7645.725620957639\n",
      "tree depth:7 score:7547.604223203256\n",
      "tree depth:8 score:7595.950260966692\n",
      "tree depth:9 score:7680.2878079809425\n",
      "tree depth:10 score:7868.267680044815\n",
      "tree depth:11 score:7801.581862693457\n",
      "tree depth:12 score:7737.640272227509\n",
      "tree depth:13 score:7933.717188273125\n",
      "tree depth:14 score:7891.771274186368\n",
      "tree depth:15 score:8037.038500711994\n",
      "tree depth:16 score:8115.502843955518\n",
      "tree depth:17 score:8117.270487546877\n",
      "tree depth:18 score:8248.909205843898\n",
      "tree depth:19 score:8355.55429495006\n",
      "7 7547.604223203256\n"
     ]
    }
   ],
   "source": [
    "# loop over max_depth to calculate best tree depth\n",
    "score = 100000\n",
    "best_depth = 0\n",
    "for i in range(1,20):\n",
    "    DecTree = tree.DecisionTreeRegressor(max_depth=i,criterion='mse')\n",
    "    DecTree.fit(x_train,y_train)\n",
    "    y_pred =  DecTree.predict(x_test)\n",
    "    acc = metrics.mean_absolute_error(y_test, y_pred)\n",
    "    print('tree depth:{} '.format(i)+\"score:{}\".format(acc))\n",
    "    if acc<score:\n",
    "        score = acc\n",
    "        best_depth = i\n",
    "print(best_depth,score)"
   ]
  },
  {
   "cell_type": "code",
   "execution_count": 161,
   "metadata": {
    "scrolled": true
   },
   "outputs": [
    {
     "data": {
      "image/png": "[encoded data removed]",
      "text/plain": [
       "<Figure size 432x288 with 1 Axes>"
      ]
     },
     "metadata": {
      "needs_background": "light"
     },
     "output_type": "display_data"
    }
   ],
   "source": [
    "# Fit regression model\n",
    "regr_1 = DecisionTreeRegressor(max_depth=2)\n",
    "regr_2 = DecisionTreeRegressor(max_depth=7)\n",
    "regr_1.fit(x_train,y_train)\n",
    "regr_2.fit(x_train,y_train)\n",
    "\n",
    "# Predict\n",
    "\n",
    "y_1 = regr_1.predict(x_test)\n",
    "y_2 = regr_2.predict(x_test)\n",
    "\n",
    "# Plot the results\n",
    "plt.figure()\n",
    "plt.scatter(x_train[:,1],y_train, s=20, edgecolor=\"black\",\n",
    "            c=\"darkorange\", label=\"data\")\n",
    "plt.plot(x_test[:,1], y_1, color=\"cornflowerblue\",\n",
    "         label=\"max_depth=2\", linewidth=2)\n",
    "plt.plot(x_test[:,1], y_2, color=\"yellowgreen\", label=\"max_depth=6\", linewidth=2)\n",
    "plt.xlabel(\"data\")\n",
    "plt.ylabel(\"target\")\n",
    "plt.title(\"Decision Tree Regression\")\n",
    "plt.legend()\n",
    "plt.show()"
   ]
  },
  {
   "cell_type": "code",
   "execution_count": 162,
   "metadata": {},
   "outputs": [
    {
     "name": "stdout",
     "output_type": "stream",
     "text": [
      "n:50 score:6959.298894057202\n",
      "n:100 score:6968.331946881132\n",
      "n:150 score:6962.578410091314\n",
      "n:200 score:6951.381679549301\n",
      "n:250 score:6983.959499834103\n",
      "n:300 score:6936.775967473132\n",
      "n:350 score:6934.783480813773\n",
      "6934.783480813773 350\n"
     ]
    }
   ],
   "source": [
    "# loop over n_estimators to calculate best one\n",
    "score = 10000\n",
    "best_n = 1\n",
    "for i in range(50,400,50):\n",
    "    RanFo = RandomForestRegressor(n_estimators=i,max_depth=best_depth,criterion='mse')\n",
    "    RanFo.fit(x_train,y_train)\n",
    "    y_pred = RanFo.predict(x_test)\n",
    "    acc = metrics.mean_absolute_error(y_test, y_pred)\n",
    "    print('n:{} '.format(i)+\"score:{}\".format(acc))\n",
    "    if acc<score:\n",
    "        score = acc\n",
    "        best_n = i\n",
    "print(score,best_n)"
   ]
  },
  {
   "cell_type": "code",
   "execution_count": 163,
   "metadata": {},
   "outputs": [
    {
     "data": {
      "text/plain": [
       "RandomForestRegressor(max_depth=7, n_estimators=350)"
      ]
     },
     "execution_count": 163,
     "metadata": {},
     "output_type": "execute_result"
    }
   ],
   "source": [
    "RanFo = RandomForestRegressor(n_estimators=best_n,max_depth=best_depth)\n",
    "RanFo.fit(x_train,y_train)"
   ]
  },
  {
   "cell_type": "code",
   "execution_count": 164,
   "metadata": {},
   "outputs": [
    {
     "name": "stdout",
     "output_type": "stream",
     "text": [
      "score:6959.886392173785\n"
     ]
    }
   ],
   "source": [
    "y_pred = RanFo.predict(x_test)\n",
    "print(\"score:{}\".format(metrics.mean_absolute_error(y_test, y_pred)))"
   ]
  },
  {
   "cell_type": "code",
   "execution_count": 166,
   "metadata": {
    "scrolled": true
   },
   "outputs": [
    {
     "name": "stdout",
     "output_type": "stream",
     "text": [
      "location                1\n",
      "km                  80000\n",
      "year                 2014\n",
      "brand                   2\n",
      "model                 308\n",
      "date         13 mars 2021\n",
      "price               37000\n",
      "Fuel_Type               1\n",
      "Horse_pow               5\n",
      "Color                Gris\n",
      "type                    2\n",
      "nb_year                 7\n",
      "Name: 221, dtype: object\n",
      "prediction:  [31984.00711572]\n",
      "tayara price:  37000.0\n"
     ]
    }
   ],
   "source": [
    "x_pred = data[(data['brand']==2) \n",
    "               & (data['km'] <150000)\n",
    "               & (data['type']==2 )\n",
    "               & (data['Fuel_Type']==1 )\n",
    "             ]\n",
    "x_pred=x_pred.iloc[3]\n",
    "\n",
    "print(x_pred)\n",
    "real_price = x_pred.price\n",
    "x_pred=x_pred[num_columns].drop('price').values.reshape(1, -1)\n",
    "price_pred = RanFo.predict(scaler.transform(x_pred))\n",
    "print('prediction: ',price_pred)\n",
    "print('tayara price: ',real_price)"
   ]
  },
  {
   "cell_type": "code",
   "execution_count": 167,
   "metadata": {},
   "outputs": [],
   "source": [
    "scores = -1*cross_val_score(RanFo, x, y,\n",
    "                              cv=5,\n",
    "                              scoring='neg_mean_absolute_error')"
   ]
  },
  {
   "cell_type": "code",
   "execution_count": 168,
   "metadata": {},
   "outputs": [
    {
     "data": {
      "text/plain": [
       "array([8763.3966901 , 7775.02109209, 7736.43001223, 7843.71992785,\n",
       "       7997.34363417])"
      ]
     },
     "execution_count": 168,
     "metadata": {},
     "output_type": "execute_result"
    }
   ],
   "source": [
    "scores"
   ]
  },
  {
   "cell_type": "code",
   "execution_count": 144,
   "metadata": {},
   "outputs": [],
   "source": [
    "scores = -1*cross_val_score(pg, x, y,\n",
    "                              cv=5,\n",
    "                              scoring='neg_mean_absolute_error')"
   ]
  },
  {
   "cell_type": "code",
   "execution_count": 145,
   "metadata": {},
   "outputs": [
    {
     "data": {
      "text/plain": [
       "array([11038.14848016, 10076.08785033,  9654.30414899, 10252.26561384,\n",
       "       10156.89021495])"
      ]
     },
     "execution_count": 145,
     "metadata": {},
     "output_type": "execute_result"
    }
   ],
   "source": [
    "scores"
   ]
  }
 ],
 "metadata": {
  "kernelspec": {
   "display_name": "Python 3",
   "language": "python",
   "name": "python3"
  },
  "language_info": {
   "codemirror_mode": {
    "name": "ipython",
    "version": 3
   },
   "file_extension": ".py",
   "mimetype": "text/x-python",
   "name": "python",
   "nbconvert_exporter": "python",
   "pygments_lexer": "ipython3",
   "version": "3.8.5"
  }
 },
 "nbformat": 4,
 "nbformat_minor": 4
}
